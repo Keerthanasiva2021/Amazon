{
 "cells": [
  {
   "cell_type": "code",
   "execution_count": 1,
   "id": "938a3fe0",
   "metadata": {},
   "outputs": [
    {
     "data": {
      "text/html": [
       "<div>\n",
       "<style scoped>\n",
       "    .dataframe tbody tr th:only-of-type {\n",
       "        vertical-align: middle;\n",
       "    }\n",
       "\n",
       "    .dataframe tbody tr th {\n",
       "        vertical-align: top;\n",
       "    }\n",
       "\n",
       "    .dataframe thead th {\n",
       "        text-align: right;\n",
       "    }\n",
       "</style>\n",
       "<table border=\"1\" class=\"dataframe\">\n",
       "  <thead>\n",
       "    <tr style=\"text-align: right;\">\n",
       "      <th></th>\n",
       "      <th>summary</th>\n",
       "      <th>overall</th>\n",
       "      <th>Sentiment</th>\n",
       "      <th>h</th>\n",
       "      <th>reviewerID</th>\n",
       "      <th>asin</th>\n",
       "      <th>year</th>\n",
       "      <th>month</th>\n",
       "      <th>day</th>\n",
       "      <th>reviewTime</th>\n",
       "      <th>Po</th>\n",
       "    </tr>\n",
       "  </thead>\n",
       "  <tbody>\n",
       "    <tr>\n",
       "      <th>0</th>\n",
       "      <td>dont wast moneyveri oili creami expect order t...</td>\n",
       "      <td>1</td>\n",
       "      <td>Negative</td>\n",
       "      <td>42.857143</td>\n",
       "      <td>A1YJEY40YUW4SE</td>\n",
       "      <td>7806397051</td>\n",
       "      <td>2014</td>\n",
       "      <td>1</td>\n",
       "      <td>30</td>\n",
       "      <td>30-01-2014</td>\n",
       "      <td>0.000000</td>\n",
       "    </tr>\n",
       "    <tr>\n",
       "      <th>1</th>\n",
       "      <td>ok palettethi palett decent price look differ ...</td>\n",
       "      <td>3</td>\n",
       "      <td>Positive</td>\n",
       "      <td>50.000000</td>\n",
       "      <td>A60XNB876KYML</td>\n",
       "      <td>7806397051</td>\n",
       "      <td>2014</td>\n",
       "      <td>4</td>\n",
       "      <td>18</td>\n",
       "      <td>18-04-2014</td>\n",
       "      <td>0.277778</td>\n",
       "    </tr>\n",
       "    <tr>\n",
       "      <th>2</th>\n",
       "      <td>great qualityth textur conceal pallet fantast ...</td>\n",
       "      <td>4</td>\n",
       "      <td>Positive</td>\n",
       "      <td>0.000000</td>\n",
       "      <td>A3G6XNM240RMWA</td>\n",
       "      <td>7806397051</td>\n",
       "      <td>2013</td>\n",
       "      <td>9</td>\n",
       "      <td>6</td>\n",
       "      <td>06-09-2013</td>\n",
       "      <td>0.300000</td>\n",
       "    </tr>\n",
       "    <tr>\n",
       "      <th>3</th>\n",
       "      <td>work facei realli cant tell exactli thing powd...</td>\n",
       "      <td>2</td>\n",
       "      <td>Negative</td>\n",
       "      <td>50.000000</td>\n",
       "      <td>A1PQFP6SAJ6D80</td>\n",
       "      <td>7806397051</td>\n",
       "      <td>2013</td>\n",
       "      <td>12</td>\n",
       "      <td>8</td>\n",
       "      <td>08-12-2013</td>\n",
       "      <td>0.233333</td>\n",
       "    </tr>\n",
       "    <tr>\n",
       "      <th>4</th>\n",
       "      <td>okayit littl smaller expect okay last long tim...</td>\n",
       "      <td>3</td>\n",
       "      <td>Positive</td>\n",
       "      <td>0.000000</td>\n",
       "      <td>A38FVHZTNQ271F</td>\n",
       "      <td>7806397051</td>\n",
       "      <td>2013</td>\n",
       "      <td>10</td>\n",
       "      <td>19</td>\n",
       "      <td>19-10-2013</td>\n",
       "      <td>0.275000</td>\n",
       "    </tr>\n",
       "  </tbody>\n",
       "</table>\n",
       "</div>"
      ],
      "text/plain": [
       "                                             summary  overall Sentiment  \\\n",
       "0  dont wast moneyveri oili creami expect order t...        1  Negative   \n",
       "1  ok palettethi palett decent price look differ ...        3  Positive   \n",
       "2  great qualityth textur conceal pallet fantast ...        4  Positive   \n",
       "3  work facei realli cant tell exactli thing powd...        2  Negative   \n",
       "4  okayit littl smaller expect okay last long tim...        3  Positive   \n",
       "\n",
       "           h      reviewerID        asin  year  month  day  reviewTime  \\\n",
       "0  42.857143  A1YJEY40YUW4SE  7806397051  2014      1   30  30-01-2014   \n",
       "1  50.000000   A60XNB876KYML  7806397051  2014      4   18  18-04-2014   \n",
       "2   0.000000  A3G6XNM240RMWA  7806397051  2013      9    6  06-09-2013   \n",
       "3  50.000000  A1PQFP6SAJ6D80  7806397051  2013     12    8  08-12-2013   \n",
       "4   0.000000  A38FVHZTNQ271F  7806397051  2013     10   19  19-10-2013   \n",
       "\n",
       "         Po  \n",
       "0  0.000000  \n",
       "1  0.277778  \n",
       "2  0.300000  \n",
       "3  0.233333  \n",
       "4  0.275000  "
      ]
     },
     "execution_count": 1,
     "metadata": {},
     "output_type": "execute_result"
    }
   ],
   "source": [
    "import pandas as pd\n",
    "import numpy as np\n",
    "import warnings\n",
    "warnings.filterwarnings('ignore')\n",
    "data =pd.read_csv(\"C:\\\\Users\\\\keesi\\\\Re_Beauty_R2.csv\")\n",
    "data.head(5)"
   ]
  },
  {
   "cell_type": "code",
   "execution_count": 2,
   "id": "4e4fad75",
   "metadata": {},
   "outputs": [
    {
     "data": {
      "text/plain": [
       "1    172830\n",
       "0     24638\n",
       "Name: Sentiment, dtype: int64"
      ]
     },
     "execution_count": 2,
     "metadata": {},
     "output_type": "execute_result"
    }
   ],
   "source": [
    "data1=data[data.Sentiment!='Neautral']\n",
    "data1['Sentiment'].replace('Positive',1,inplace=True)\n",
    "data1['Sentiment'].replace('Negative',0,inplace=True)\n",
    "data1.Sentiment.value_counts()"
   ]
  },
  {
   "cell_type": "code",
   "execution_count": null,
   "id": "d3e9f088",
   "metadata": {},
   "outputs": [],
   "source": []
  },
  {
   "cell_type": "code",
   "execution_count": 3,
   "id": "974f3160",
   "metadata": {},
   "outputs": [],
   "source": [
    "X = data['summary']\n",
    "y = data['Sentiment']"
   ]
  },
  {
   "cell_type": "code",
   "execution_count": 4,
   "id": "5b08c3da",
   "metadata": {},
   "outputs": [],
   "source": [
    "from sklearn.model_selection import train_test_split\n",
    "X_train, X_test, y_train, y_test = train_test_split(X, y, random_state=12)"
   ]
  },
  {
   "cell_type": "code",
   "execution_count": 5,
   "id": "b3f52748",
   "metadata": {},
   "outputs": [],
   "source": [
    "from sklearn.feature_extraction.text import CountVectorizer\n",
    "cv = CountVectorizer()\n",
    "ctmTr = cv.fit_transform(X_train)\n",
    "X_test_dtm = cv.transform(X_test)"
   ]
  },
  {
   "cell_type": "code",
   "execution_count": 6,
   "id": "19732610",
   "metadata": {},
   "outputs": [
    {
     "data": {
      "text/plain": [
       "LogisticRegression()"
      ]
     },
     "execution_count": 6,
     "metadata": {},
     "output_type": "execute_result"
    }
   ],
   "source": [
    "from sklearn.linear_model import LogisticRegression\n",
    "from sklearn.metrics import accuracy_score\n",
    "model = LogisticRegression()\n",
    "model.fit(ctmTr, y_train)"
   ]
  },
  {
   "cell_type": "code",
   "execution_count": 7,
   "id": "2890d7d1",
   "metadata": {},
   "outputs": [],
   "source": [
    "y_pred_class = model.predict(X_test_dtm)"
   ]
  },
  {
   "cell_type": "code",
   "execution_count": 8,
   "id": "06501a0d",
   "metadata": {},
   "outputs": [
    {
     "data": {
      "text/plain": [
       "0.9099060976101238"
      ]
     },
     "execution_count": 8,
     "metadata": {},
     "output_type": "execute_result"
    }
   ],
   "source": [
    "accuracy_score(y_test, y_pred_class)"
   ]
  },
  {
   "cell_type": "code",
   "execution_count": 12,
   "id": "b757379c",
   "metadata": {},
   "outputs": [],
   "source": [
    "import matplotlib.pyplot as plt\n",
    "import seaborn as sns\n",
    "from sklearn import metrics"
   ]
  },
  {
   "cell_type": "code",
   "execution_count": 10,
   "id": "38612588",
   "metadata": {},
   "outputs": [
    {
     "name": "stdout",
     "output_type": "stream",
     "text": [
      "[[   38    61   156]\n",
      " [   29  3440  2715]\n",
      " [   24  1486 41677]]\n"
     ]
    }
   ],
   "source": [
    "cm = metrics.confusion_matrix(y_test, y_pred_class)\n",
    "print(cm)"
   ]
  },
  {
   "cell_type": "code",
   "execution_count": 19,
   "id": "cab4d403",
   "metadata": {},
   "outputs": [
    {
     "data": {
      "text/plain": [
       "Text(0.5, 15.0, 'Predicted label')"
      ]
     },
     "execution_count": 19,
     "metadata": {},
     "output_type": "execute_result"
    },
    {
     "data": {
      "image/png": "[encoded data removed]",
      "text/plain": [
       "<Figure size 432x288 with 2 Axes>"
      ]
     },
     "metadata": {
      "needs_background": "light"
     },
     "output_type": "display_data"
    }
   ],
   "source": [
    "import seaborn as sn\n",
    "import matplotlib.pyplot as plt\n",
    "sn.heatmap(pd.DataFrame(cm))\n",
    "plt.title('Confusion matrix', y=1.1) \n",
    "plt.ylabel('Actual label') \n",
    "plt.xlabel('Predicted label')\n"
   ]
  },
  {
   "cell_type": "code",
   "execution_count": 13,
   "id": "54878b11",
   "metadata": {},
   "outputs": [
    {
     "name": "stdout",
     "output_type": "stream",
     "text": [
      "Collecting scikit-plot\n",
      "  Downloading scikit_plot-0.3.7-py3-none-any.whl (33 kB)\n",
      "Requirement already satisfied: scipy>=0.9 in c:\\programdata\\anaconda3\\lib\\site-packages (from scikit-plot) (1.6.2)\n",
      "Requirement already satisfied: matplotlib>=1.4.0 in c:\\programdata\\anaconda3\\lib\\site-packages (from scikit-plot) (3.3.4)\n",
      "Requirement already satisfied: scikit-learn>=0.18 in c:\\programdata\\anaconda3\\lib\\site-packages (from scikit-plot) (0.24.1)\n",
      "Requirement already satisfied: joblib>=0.10 in c:\\programdata\\anaconda3\\lib\\site-packages (from scikit-plot) (1.0.1)\n",
      "Requirement already satisfied: python-dateutil>=2.1 in c:\\programdata\\anaconda3\\lib\\site-packages (from matplotlib>=1.4.0->scikit-plot) (2.8.1)\n",
      "Requirement already satisfied: kiwisolver>=1.0.1 in c:\\programdata\\anaconda3\\lib\\site-packages (from matplotlib>=1.4.0->scikit-plot) (1.3.1)\n",
      "Requirement already satisfied: cycler>=0.10 in c:\\programdata\\anaconda3\\lib\\site-packages (from matplotlib>=1.4.0->scikit-plot) (0.10.0)\n",
      "Requirement already satisfied: pyparsing!=2.0.4,!=2.1.2,!=2.1.6,>=2.0.3 in c:\\programdata\\anaconda3\\lib\\site-packages (from matplotlib>=1.4.0->scikit-plot) (2.4.7)\n",
      "Requirement already satisfied: pillow>=6.2.0 in c:\\programdata\\anaconda3\\lib\\site-packages (from matplotlib>=1.4.0->scikit-plot) (8.2.0)\n",
      "Requirement already satisfied: numpy>=1.15 in c:\\programdata\\anaconda3\\lib\\site-packages (from matplotlib>=1.4.0->scikit-plot) (1.20.1)\n",
      "Requirement already satisfied: six in c:\\programdata\\anaconda3\\lib\\site-packages (from cycler>=0.10->matplotlib>=1.4.0->scikit-plot) (1.15.0)\n",
      "Requirement already satisfied: threadpoolctl>=2.0.0 in c:\\programdata\\anaconda3\\lib\\site-packages (from scikit-learn>=0.18->scikit-plot) (2.1.0)\n",
      "Installing collected packages: scikit-plot\n",
      "Successfully installed scikit-plot-0.3.7\n"
     ]
    }
   ],
   "source": [
    "!pip install scikit-plot"
   ]
  },
  {
   "cell_type": "code",
   "execution_count": 15,
   "id": "c18af898",
   "metadata": {},
   "outputs": [
    {
     "data": {
      "image/png": "[encoded data removed]",
      "text/plain": [
       "<Figure size 432x288 with 1 Axes>"
      ]
     },
     "metadata": {
      "needs_background": "light"
     },
     "output_type": "display_data"
    }
   ],
   "source": [
    "#ROC\n",
    "import scikitplot as skplt #to make things easy\n",
    "y_pred_proba = model.predict_proba(X_test_dtm)\n",
    "skplt.metrics.plot_roc_curve(y_test, y_pred_proba)\n",
    "plt.show()"
   ]
  },
  {
   "cell_type": "code",
   "execution_count": 17,
   "id": "7bbc503c",
   "metadata": {},
   "outputs": [
    {
     "name": "stdout",
     "output_type": "stream",
     "text": [
      "              precision    recall  f1-score   support\n",
      "\n",
      "    Neautral       0.42      0.15      0.22       255\n",
      "    Negative       0.69      0.56      0.62      6184\n",
      "    Positive       0.94      0.97      0.95     43187\n",
      "\n",
      "    accuracy                           0.91     49626\n",
      "   macro avg       0.68      0.56      0.60     49626\n",
      "weighted avg       0.90      0.91      0.90     49626\n",
      "\n"
     ]
    }
   ],
   "source": [
    "from sklearn.metrics import classification_report\n",
    "print(classification_report(y_test, y_pred_class))"
   ]
  },
  {
   "cell_type": "code",
   "execution_count": null,
   "id": "13fbab7e",
   "metadata": {},
   "outputs": [],
   "source": []
  }
 ],
 "metadata": {
  "kernelspec": {
   "display_name": "Python 3",
   "language": "python",
   "name": "python3"
  },
  "language_info": {
   "codemirror_mode": {
    "name": "ipython",
    "version": 3
   },
   "file_extension": ".py",
   "mimetype": "text/x-python",
   "name": "python",
   "nbconvert_exporter": "python",
   "pygments_lexer": "ipython3",
   "version": "3.8.8"
  }
 },
 "nbformat": 4,
 "nbformat_minor": 5
}
